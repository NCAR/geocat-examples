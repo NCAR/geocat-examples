{
 "cells": [
  {
   "cell_type": "code",
   "execution_count": null,
   "metadata": {},
   "outputs": [],
   "source": [
    "\"\"\"\n",
    "NCL_leg_1.py\n",
    "===============\n",
    "This script illustrates the following concepts:\n",
    "   - Drawing a legend inside an XY plot\n",
    "   - Changing the width and height of a legend\n",
    "   - Turning off the perimeter around a legend\n",
    "   - Changing the font size of legend labels\n",
    "   - Customizing the labels in a legend\n",
    "\n",
    "See following URLs to see the reproduced NCL plot & script:\n",
    "    - Original NCL script: https://www.ncl.ucar.edu/Applications/Scripts/leg_1.ncl\n",
    "    - Original NCL plot: https://www.ncl.ucar.edu/Applications/Images/leg_1_lg.png\n",
    "\"\"\"\n",
    "\n",
    "###############################################################################\n",
    "# Import packages:\n",
    "import numpy as np\n",
    "import xarray as xr\n",
    "import holoviews as hv\n",
    "\n",
    "import geocat.datafiles as gdf\n",
    "from geocat.viz import util as gvutil\n",
    "\n",
    "hv.extension(\"matplotlib\",\"bokeh\")\n",
    "\n",
    "###############################################################################\n",
    "# Read in data:\n",
    "\n",
    "# Open a netCDF data file using xarray default engine and load the data into xarrays\n",
    "ds = xr.open_dataset(gdf.get(\"netcdf_files/uv300.nc\"))\n",
    "# Extract variables\n",
    "uz = ds.U.isel(time=0).mean(dim=['lon'])\n",
    "vz = ds.V.isel(time=0).mean(dim=['lon'])\n",
    "\n",
    "###############################################################################\n",
    "# Plot:\n",
    "\n",
    "# basic version (works with Matplotlib or Bokeh plotting)\n",
    "hv.Curve(vz, label=\"V\") * hv.Curve(uz, label=\"U\")"
   ]
  },
  {
   "cell_type": "code",
   "execution_count": null,
   "metadata": {},
   "outputs": [],
   "source": [
    "# customized Matplotlib plot\n",
    "hv.output(backend='matplotlib')\n",
    "\n",
    "ticks = list(zip(np.linspace(-90, 90, 7), ['90S', '60S', '30S', '0', '30N', '60N', '90N']))\n",
    "\n",
    "vc = hv.Curve(vz, label=\"V\").opts(color=\"gray\", linestyle='--') \n",
    "uc = hv.Curve(uz, label=\"U\").opts(color=\"gray\")\n",
    "\n",
    "(vc * uc).opts(xticks=ticks, show_legend=True, legend_opts=dict(loc=\"upper left\"), fig_inches=5)\n"
   ]
  },
  {
   "cell_type": "code",
   "execution_count": null,
   "metadata": {},
   "outputs": [],
   "source": [
    "# customized Bokeh plot\n",
    "hv.output(backend='bokeh')\n",
    "\n",
    "vc = hv.Curve(vz, label=\"V\").opts(color=\"gray\", line_dash='dashed', tools=['hover']) \n",
    "uc = hv.Curve(uz, label=\"U\").opts(color=\"gray\", tools=['hover'])\n",
    "\n",
    "(vc * uc).opts(xticks=ticks, legend_opts={\"location\":\"top_right\"}, width=350, height=350)"
   ]
  }
 ],
 "metadata": {
  "kernelspec": {
   "display_name": "Python 3",
   "language": "python",
   "name": "python3"
  },
  "language_info": {
   "codemirror_mode": {
    "name": "ipython",
    "version": 3
   },
   "file_extension": ".py",
   "mimetype": "text/x-python",
   "name": "python",
   "nbconvert_exporter": "python",
   "pygments_lexer": "ipython3",
   "version": "3.7.8"
  }
 },
 "nbformat": 4,
 "nbformat_minor": 4
}
