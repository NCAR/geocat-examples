{
 "cells": [
  {
   "cell_type": "markdown",
   "metadata": {
    "tags": []
   },
   "source": [
    "# MPAS with Datashader and Geoviews\n",
    "\n",
    "To run this notebook in a local setup, the following packages need to be installed by running:\n",
    "\n",
    "```bash\n",
    "conda install -c conda-forge datashader holoviews geoviews\n",
    "conda install -c ncar geocat-datafiles  # Only for reading-in datasets\n",
    "```\n",
    "\n",
    "## Interactively plotting unstructured grid MPAS data with Datashader and Geoviews\n",
    "\n",
    "This example demonstrates several key points:\n",
    "\n",
    "1. Making use of the MPAS file's connectivity information to render data on the native grid, and also\n",
    "avoid costly Delaunay triangulation that is required if the MPAS connectivity information is not used.\n",
    "2. Rendering data that is sampled on both the 'primal' and 'dual' MPAS mesh.\n",
    "3. Using geoviews/holoviews for interactive plotting in a Jupyter Notebook. The plotting is interactive\n",
    "in the sense that you can pan and zoom the data. Doing so will reveal greater and greater data fidelity.\n",
    "2. Using Datashader to perform background rendering in place of Matplotlib. Unlike Matplotlib, Datashader\n",
    "was designed for performance with large data sets.\n",
    "\n",
    "\n",
    "## The data\n",
    "The global data sets used in this example are from the same experiment, but run at several resolutions from\n",
    "30km to 3.75km. Due to their size, the higher resolution data sets are only distributed with two variables\n",
    "in them:\n",
    "+ relhum_200hPa: Relative humidity vertically interpolated to 200 hPa\n",
    "+ vorticity_200hPa: Relative vorticity vertically interpolated to 200 hPa\n",
    "\n",
    "The relhum_200hPa is computed on the MPAS 'primal' mesh, while the vorticity_200hPa is computed on the MPAS\n",
    "'dual' mesh. Note that data may also be sampled on the edges of the primal mesh. This example does not\n",
    "include/cover edge-centered data.\n",
    "\n",
    "These data are courtesy of NCAR's Falko Judt, and were produced as part of the DYAMOND initiative: \n",
    " http://dx.doi.org/10.1186/s40645-019-0304-z.\n",
    " "
   ]
  },
  {
   "cell_type": "code",
   "execution_count": null,
   "metadata": {
    "tags": []
   },
   "outputs": [],
   "source": [
    "import cartopy.crs as ccrs\n",
    "import numpy as np\n",
    "\n",
    "import dask.dataframe as dd\n",
    "\n",
    "import holoviews as hv\n",
    "from holoviews import opts\n",
    "\n",
    "from holoviews.operation.datashader import rasterize as hds_rasterize \n",
    "import geoviews.feature as gf # only needed for coastlines\n",
    "\n",
    "hv.extension(\"bokeh\",\"matplotlib\")\n",
    "\n",
    "opts.defaults(\n",
    "    opts.Image(frame_width=600, data_aspect=1),\n",
    "    opts.RGB(frame_width=600, data_aspect=1))\n"
   ]
  },
  {
   "cell_type": "markdown",
   "metadata": {},
   "source": [
    "## Set up Dask\n",
    "\n",
    "TO-DO: Dask parallelization will be investigated later...\n"
   ]
  },
  {
   "cell_type": "code",
   "execution_count": null,
   "metadata": {
    "tags": []
   },
   "outputs": [],
   "source": [
    "n_workers = 1\n",
    "\n",
    "# from dask.distributed import LocalCluster, Client\n",
    "\n",
    "# cluster = LocalCluster()\n",
    "# cluster.scale(n_workers)\n",
    "# client = Client(cluster)"
   ]
  },
  {
   "cell_type": "markdown",
   "metadata": {},
   "source": [
    "## Utility functions\n"
   ]
  },
  {
   "cell_type": "code",
   "execution_count": null,
   "metadata": {
    "tags": []
   },
   "outputs": [],
   "source": [
    "# This funtion splits a global mesh along longitude\n",
    "#\n",
    "# Examine the X coordinates of each triangle in 'tris'. Return an array of 'tris' where only those triangles\n",
    "# with legs whose length is less than 't' are returned. \n",
    "# \n",
    "def unzipMesh(x,tris,t):\n",
    "    return tris[(np.abs((x[tris[:,0]])-(x[tris[:,1]])) < t) & (np.abs((x[tris[:,0]])-(x[tris[:,2]])) < t)]"
   ]
  },
  {
   "cell_type": "code",
   "execution_count": null,
   "metadata": {
    "tags": []
   },
   "outputs": [],
   "source": [
    "# Compute the signed area of a triangle\n",
    "#\n",
    "def triArea(x,y,tris):\n",
    "    return ((x[tris[:,1]]-x[tris[:,0]]) * (y[tris[:,2]]-y[tris[:,0]])) - ((x[tris[:,2]]-x[tris[:,0]]) * (y[tris[:,1]]-y[tris[:,0]]))"
   ]
  },
  {
   "cell_type": "code",
   "execution_count": null,
   "metadata": {
    "tags": []
   },
   "outputs": [],
   "source": [
    "# Reorder triangles as necessary so they all have counter clockwise winding order. CCW is what Datashader and MPL\n",
    "# require.\n",
    "#\n",
    "def orderCCW(x,y,tris):\n",
    "    tris[triArea(x,y,tris)<0.0,:] = tris[triArea(x,y,tris)<0.0,::-1]\n",
    "    return(tris)\n"
   ]
  },
  {
   "cell_type": "code",
   "execution_count": null,
   "metadata": {
    "tags": []
   },
   "outputs": [],
   "source": [
    "# Create a Holoviews Triangle Mesh suitable for rendering with Datashader\n",
    "#\n",
    "# This function returns a Holoviews TriMesh that is created from a list of coordinates, 'x' and 'y',\n",
    "# an array of triangle indices that addressess the coordinates in 'x' and 'y', and a data variable 'var'. The\n",
    "# data variable's values will annotate the triangle vertices\n",
    "#\n",
    "\n",
    "import pandas as pd\n",
    "\n",
    "def createHVTriMesh(x,y,triangle_indices, var,n_workers=1):\n",
    "    # Declare verts array\n",
    "    verts = np.column_stack([x, y, var])\n",
    "\n",
    "\n",
    "    # Convert to pandas\n",
    "    verts_df  = pd.DataFrame(verts,  columns=['x', 'y', 'z'])\n",
    "    tris_df   = pd.DataFrame(triangle_indices, columns=['v0', 'v1', 'v2'])\n",
    "\n",
    "    # Convert to dask\n",
    "    verts_ddf = dd.from_pandas(verts_df, npartitions=n_workers)\n",
    "    tris_ddf = dd.from_pandas(tris_df, npartitions=n_workers)\n",
    "\n",
    "    # Declare HoloViews element\n",
    "    tri_nodes = hv.Nodes(verts_ddf, ['x', 'y', 'index'], ['z'])\n",
    "    trimesh = hv.TriMesh((tris_ddf, tri_nodes))\n",
    "    return(trimesh)"
   ]
  },
  {
   "cell_type": "code",
   "execution_count": null,
   "metadata": {
    "tags": []
   },
   "outputs": [],
   "source": [
    "# Triangulate MPAS primary mesh:\n",
    "#\n",
    "# Triangulate each polygon in a heterogenous mesh of n-gons by connecting\n",
    "# each internal polygon vertex to the first vertex. Uses the MPAS\n",
    "# auxilliary variables verticesOnCell, and nEdgesOnCell.\n",
    "#\n",
    "# The function is decorated with Numba's just-in-time compiler so that it is translated into\n",
    "# optimized machine code for better peformance\n",
    "#\n",
    "\n",
    "from numba import jit\n",
    "\n",
    "@jit(nopython=True)\n",
    "def triangulatePoly(verticesOnCell, nEdgesOnCell):\n",
    "\n",
    "    # Calculate the number of triangles. nEdgesOnCell gives the number of vertices for each cell (polygon)\n",
    "    # The number of triangles per polygon is the number of vertices minus 2.\n",
    "    #\n",
    "    nTriangles = np.sum(nEdgesOnCell - 2)\n",
    "\n",
    "    triangles = np.ones((nTriangles, 3), dtype=np.int64)\n",
    "    nCells = verticesOnCell.shape[0]\n",
    "    triIndex = 0\n",
    "    for j in range(nCells):\n",
    "        for i in range(nEdgesOnCell[j]-2):\n",
    "            triangles[triIndex][0] = verticesOnCell[j][0]\n",
    "            triangles[triIndex][1] = verticesOnCell[j][i+1]\n",
    "            triangles[triIndex][2] = verticesOnCell[j][i+2]\n",
    "            triIndex += 1\n",
    "\n",
    "    return triangles\n"
   ]
  },
  {
   "cell_type": "markdown",
   "metadata": {},
   "source": [
    "## Load data and coordinates\n",
    "\n",
    "The dyamond_1 data set is available in several resolutions, ranging from 30 km to 3.75 km.\n",
    "\n",
    "Currently, the 30-km resolution dataset used in this example is available at geocat-datafiles.\n",
    "However, the other resolutions of these data are stored on Glade because of their size.\n"
   ]
  },
  {
   "cell_type": "code",
   "execution_count": null,
   "metadata": {
    "tags": []
   },
   "outputs": [],
   "source": [
    "# Load data\n",
    "\n",
    "import math as math\n",
    "\n",
    "import geocat.datafiles as gdf  # Only for reading-in datasets\n",
    "\n",
    "from xarray import open_mfdataset\n",
    "\n",
    "datafiles = (gdf.get(\"netcdf_files/MPAS/FalkoJudt/dyamond_1/30km/diag.2016-08-20_00.00.00_subset.nc\"),\n",
    "                    gdf.get(\"netcdf_files/MPAS/FalkoJudt/dyamond_1/30km/x1.655362.grid_subset.nc\") )\n",
    "\n",
    "primalVarName = 'relhum_200hPa'\n",
    "dualVarName = 'vorticity_200hPa'\n",
    "central_longitude = 0.0\n",
    "\n",
    "ds = open_mfdataset(datafiles, decode_times=False)\n",
    "primalVar = ds[primalVarName].isel(Time=0).values\n",
    "dualVar = ds[dualVarName].isel(Time=0).values\n",
    "\n",
    "# Fetch lat and lon coordinates for the primal and dual mesh.\n",
    "lonCell = ds['lonCell'].values * 180.0 / math.pi\n",
    "latCell = ds['latCell'].values * 180.0 / math.pi\n",
    "lonCell = ((lonCell - 180.0) % 360.0) - 180.0\n",
    "\n",
    "lonVertex = ds['lonVertex'].values * 180.0 / math.pi\n",
    "latVertex = ds['latVertex'].values * 180.0 / math.pi\n",
    "lonVertex = ((lonVertex - 180.0) % 360.0) - 180.0"
   ]
  },
  {
   "cell_type": "markdown",
   "metadata": {
    "tags": []
   },
   "source": [
    "## Example 1 - Using MPAS's cell connectivity array to plot primal mesh data\n",
    "\n",
    "In this example we use the MPAS `cellsOnVertex` auxilliary variable, which defines mesh connectivity for the MPAS grid.\n",
    "Specifically, this variable tells us the cell IDs for each cell that contains each vertex.\n",
    "\n",
    "The benefits of this are twofold: 1. We're using the actual mesh description from the MPAS output file; and 2. \n",
    "For large grid this is *much* faster than synthesizing the connectivity information as is done\n",
    "in the next example\n"
   ]
  },
  {
   "cell_type": "code",
   "execution_count": null,
   "metadata": {
    "tags": []
   },
   "outputs": [],
   "source": [
    "# Get triangle indices for each vertex in the MPAS file. Note, indexing in MPAS starts from 1, not zero :-(\n",
    "#\n",
    "tris = ds.cellsOnVertex.values - 1\n",
    "\n",
    "# The MPAS connectivity array unforunately does not seem to guarantee consistent clockwise winding order, which\n",
    "# is required by Datashader (and Matplotlib)\n",
    "#\n",
    "tris = orderCCW(lonCell,latCell,tris)\n",
    "\n",
    "# Lastly, we need to \"unzip\" the mesh along a constant line of longitude so that when we project to PCS coordinates\n",
    "# cells don't wrap around from east to west. The function below does the job, but it assumes that the \n",
    "# central_longitude from the map projection is 0.0. I.e. it will cut the mesh where longitude \n",
    "# wraps around from -180.0 to 180.0. We'll need to generalize this\n",
    "#\n",
    "tris = unzipMesh(lonCell,tris,90.0)\n",
    "\n",
    "\n",
    "# Project verts from geographic to PCS coordinates\n",
    "#\n",
    "projection = ccrs.Robinson(central_longitude=central_longitude)\n",
    "xPCS, yPCS, _ = projection.transform_points(ccrs.PlateCarree(), lonCell, latCell).T\n",
    "\n",
    "\n",
    "trimesh = createHVTriMesh(xPCS,yPCS,tris, primalVar,n_workers=n_workers)"
   ]
  },
  {
   "cell_type": "code",
   "execution_count": null,
   "metadata": {
    "tags": []
   },
   "outputs": [],
   "source": [
    "# Use precompute so it caches the data internally\n",
    "rasterized = hds_rasterize(trimesh, aggregator='mean', precompute=True)\n",
    "rasterized.opts(tools=['hover'], colorbar=True, cmap='coolwarm') * gf.coastline(projection=projection)\n"
   ]
  },
  {
   "cell_type": "markdown",
   "metadata": {},
   "source": [
    "## Example 2 - Synthesizing triangles from points using Delaunay triangulation\n",
    "\n",
    "In this second example we do not use the triangle connectivity information stored in the MPAS file. Instead we\n",
    "use Delaunay triangulation to artifically create a triangle mesh. The benefit of this approach is that we do not\n",
    "need the MPAS cellsOnVertex variable if it is not available. Also, since the triangulation algorithm is run on the \n",
    "coordinates after they are projected to meters we do not have to worry about wraparound. The downside is that for\n",
    "high-resolution data Delaunay triangulation is prohibitively expensive. The highest resolution data set included\n",
    "in this notebook (3.75km) will not triangulate in a reasonable amount of time, if at all \n"
   ]
  },
  {
   "cell_type": "code",
   "execution_count": null,
   "metadata": {},
   "outputs": [],
   "source": [
    "# Use Delaunay triangulation to generate the triangle connectivity. Note, it's important that the coordinate \n",
    "# arrays already be in PCS coordinates (not lat-lon) for the triangulation to perform optimally\n",
    "#\n",
    "\n",
    "from matplotlib.tri import Triangulation\n",
    "\n",
    "tris = Triangulation(xPCS,yPCS).triangles\n",
    "\n",
    "trimesh = createHVTriMesh(xPCS,yPCS,tris, primalVar,n_workers=n_workers)\n"
   ]
  },
  {
   "cell_type": "code",
   "execution_count": null,
   "metadata": {},
   "outputs": [],
   "source": [
    "# Use precompute so it caches the data internally\n",
    "rasterized = hds_rasterize(trimesh, aggregator='mean', precompute=True)\n",
    "rasterized.opts(tools=['hover'], colorbar=True, cmap='coolwarm') * gf.coastline(projection=projection)\n"
   ]
  },
  {
   "cell_type": "markdown",
   "metadata": {},
   "source": [
    "## Example 3 - Using MPAS's cell connectivity array to plot dual mesh data\n",
    "\n",
    "In this example we use the MPAS `verticesOnCell` and `nEdgesOnCell` auxilliary variables, which defines mesh connectivity for the\n",
    "MPAS dual grid.\n",
    "\n",
    "As with the first example using the MPAS primal grid, data on the dual grid could be plotted by first\n",
    "triangulating them with, for example, Delaunay triangulation. But using grid's native connectivity information \n",
    "is faster.\n"
   ]
  },
  {
   "cell_type": "code",
   "execution_count": null,
   "metadata": {},
   "outputs": [],
   "source": [
    "verticesOnCell = ds.verticesOnCell.values - 1\n",
    "nEdgesOnCell = ds.nEdgesOnCell.values\n",
    "\n",
    "# For the dual mesh the data are located on triangle centers, which correspond to cell (polygon) vertices. Here\n",
    "# we decompose each cell into triangles\n",
    "#\n",
    "tris = triangulatePoly(verticesOnCell, nEdgesOnCell)\n",
    "\n",
    "tris = unzipMesh(lonVertex,tris,90.0)\n",
    "\n",
    "# Project verts from geographic to PCS coordinates\n",
    "#\n",
    "projection = ccrs.Robinson(central_longitude=central_longitude)\n",
    "xPCS, yPCS, _ = projection.transform_points(ccrs.PlateCarree(), lonVertex, latVertex).T\n",
    "\n",
    "trimesh = createHVTriMesh(xPCS,yPCS,tris, dualVar,n_workers=n_workers)\n"
   ]
  },
  {
   "cell_type": "code",
   "execution_count": null,
   "metadata": {},
   "outputs": [],
   "source": [
    "rasterized = hds_rasterize(trimesh, aggregator='mean', precompute=True)\n",
    "rasterized.opts(tools=['hover'], colorbar=True, cmap='coolwarm') * gf.coastline(projection=projection)\n",
    "\n"
   ]
  }
 ],
 "metadata": {
  "kernelspec": {
   "display_name": "Python 3 (ipykernel)",
   "language": "python",
   "name": "python3"
  },
  "language_info": {
   "codemirror_mode": {
    "name": "ipython",
    "version": 3
   },
   "file_extension": ".py",
   "mimetype": "text/x-python",
   "name": "python",
   "nbconvert_exporter": "python",
   "pygments_lexer": "ipython3",
   "version": "3.11.3"
  },
  "widgets": {
   "application/vnd.jupyter.widget-state+json": {
    "state": {},
    "version_major": 2,
    "version_minor": 0
   }
  }
 },
 "nbformat": 4,
 "nbformat_minor": 4
}
